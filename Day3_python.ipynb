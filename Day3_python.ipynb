{
  "nbformat": 4,
  "nbformat_minor": 0,
  "metadata": {
    "colab": {
      "provenance": []
    },
    "kernelspec": {
      "name": "python3",
      "display_name": "Python 3"
    },
    "language_info": {
      "name": "python"
    }
  },
  "cells": [
    {
      "cell_type": "code",
      "execution_count": 10,
      "metadata": {
        "colab": {
          "base_uri": "https://localhost:8080/"
        },
        "id": "Z3or6boLAfhs",
        "outputId": "5d8f6775-60ea-4699-d74f-c6d6292c91dd"
      },
      "outputs": [
        {
          "output_type": "stream",
          "name": "stdout",
          "text": [
            "{'name': 'divya', 'marks': [12, 25], 'learning': 'coding', 'gender': 'female', 'topic': ('dict', 'set'), 12.3: 15.03}\n",
            "<class 'dict'>\n",
            "divya\n",
            "coding\n",
            "{'name': 'learner', 'marks': [12, 25], 'learning': 'coding', 'gender': 'female', 'topic': ('dict', 'set'), 12.3: 15.03}\n",
            "{'name': 'learner', 'marks': [12, 25], 'learning': 'coding', 'gender': 'female', 'topic': ('dict', 'set'), 12.3: 15.03, 'surname': 'veeranna'}\n",
            "{}\n"
          ]
        }
      ],
      "source": [
        "#Dictionary - key:value,mutable,unordered,don't allow duplicate\n",
        "dict = {\n",
        "    \"name\" : \"divya\",\n",
        "    \"marks\": [12,25],\n",
        "    \"learning\" : \"coding\",\n",
        "    \"gender\": \"female\",\n",
        "    \"topic\":(\"dict\",\"set\"),\n",
        "    12.3:15.03\n",
        "}\n",
        "print(dict)\n",
        "print(type(dict))\n",
        "print(dict[\"name\"])\n",
        "print(dict[\"learning\"])\n",
        "dict[\"name\"]=\"learner\" #name changing\n",
        "print(dict)\n",
        "dict[\"surname\"]=\"veeranna\"\n",
        "print(dict)\n",
        "null_dict={}\n",
        "print(null_dict)\n"
      ]
    },
    {
      "cell_type": "code",
      "source": [
        "#Nested dict\n",
        "stu = {\n",
        "    \"name\": \"ram\",\n",
        "    \"sub\":{\n",
        "        \"s1\":12,\n",
        "        \"s2\":25\n",
        "    }\n",
        "}\n",
        "print(stu)\n",
        "print(stu[\"sub\"][\"s1\"])"
      ],
      "metadata": {
        "colab": {
          "base_uri": "https://localhost:8080/"
        },
        "id": "tQR3xZt_BtGR",
        "outputId": "fabf71fe-655d-4253-e7fb-7f70f27b0d68"
      },
      "execution_count": 16,
      "outputs": [
        {
          "output_type": "stream",
          "name": "stdout",
          "text": [
            "{'name': 'ram', 'sub': {'s1': 12, 's2': 25}}\n",
            "12\n"
          ]
        }
      ]
    },
    {
      "cell_type": "code",
      "source": [
        "#Dict methods\n",
        "print(len(list(stu.keys())))\n",
        "print(len(stu)) #keys(),ret keys\n",
        "print(stu.values()) #values(),ret values\n",
        "print(stu.items()) #items(),ret keys&values\n",
        "print(list(stu.items()))\n",
        "pairs = list(stu.items())\n",
        "print(pairs[0])\n",
        "print(pairs[0][1])\n",
        "print(stu.get(\"sub\"))#get(),ret key acc to value\n",
        "print(stu.get(\"sub12\"))\n",
        "new_dict={\"city\":\"aa\"} #update()\n",
        "stu.update()\n",
        "print(stu)"
      ],
      "metadata": {
        "colab": {
          "base_uri": "https://localhost:8080/"
        },
        "id": "sJZz1n_1FYrS",
        "outputId": "170d31bb-b855-4e3b-e67e-6f7d8fddc11a"
      },
      "execution_count": 36,
      "outputs": [
        {
          "output_type": "stream",
          "name": "stdout",
          "text": [
            "3\n",
            "3\n",
            "dict_values(['ram', {'s1': 12, 's2': 25}, 'aa'])\n",
            "dict_items([('name', 'ram'), ('sub', {'s1': 12, 's2': 25}), ('city', 'aa')])\n",
            "[('name', 'ram'), ('sub', {'s1': 12, 's2': 25}), ('city', 'aa')]\n",
            "('name', 'ram')\n",
            "ram\n",
            "{'s1': 12, 's2': 25}\n",
            "None\n",
            "{'name': 'ram', 'sub': {'s1': 12, 's2': 25}, 'city': 'aa'}\n"
          ]
        }
      ]
    },
    {
      "cell_type": "code",
      "source": [
        "#Sets - mutable,unordered items || set elements - immutable\n",
        "collection = {1,2,2,2,2,3,4,\"artificial\",\"intelligence\",25,78032}\n",
        "print(collection)\n",
        "print(type(collection))\n",
        "print(len(collection))"
      ],
      "metadata": {
        "colab": {
          "base_uri": "https://localhost:8080/"
        },
        "id": "1LTFz5xgLd6x",
        "outputId": "4b67db8c-2abb-46ec-8772-12fb3b087d90"
      },
      "execution_count": 41,
      "outputs": [
        {
          "output_type": "stream",
          "name": "stdout",
          "text": [
            "{1, 2, 3, 4, 'artificial', 78032, 'intelligence', 25}\n",
            "<class 'set'>\n",
            "8\n"
          ]
        }
      ]
    },
    {
      "cell_type": "code",
      "source": [
        "collection1 = set()#empty set;syntax\n",
        "print(type(collection1))\n"
      ],
      "metadata": {
        "colab": {
          "base_uri": "https://localhost:8080/"
        },
        "id": "vP28Zj0-L1YQ",
        "outputId": "34a96f65-e656-4025-e8bb-b6943b1c26a1"
      },
      "execution_count": 43,
      "outputs": [
        {
          "output_type": "stream",
          "name": "stdout",
          "text": [
            "<class 'set'>\n"
          ]
        }
      ]
    },
    {
      "cell_type": "code",
      "source": [
        "#sets method\n",
        "col = set()\n",
        "col.add(12) #add()\n",
        "col.add(12.335)\n",
        "col.add(12)\n",
        "col.add(\"apple\")\n",
        "col.add((45,89,25))\n",
        "\n",
        "col.remove(12) #remove()\n",
        "print(col)\n",
        "print(len(col))\n",
        "col.clear() #clear()\n",
        "print(col)\n",
        "print(len(col))\n"
      ],
      "metadata": {
        "colab": {
          "base_uri": "https://localhost:8080/"
        },
        "id": "FHcUdg0ZNKGG",
        "outputId": "d914c180-3f46-4918-802e-7f44eb8aa03c"
      },
      "execution_count": 55,
      "outputs": [
        {
          "output_type": "stream",
          "name": "stdout",
          "text": [
            "{(45, 89, 25), 12.335, 'apple'}\n",
            "3\n",
            "set()\n",
            "0\n"
          ]
        }
      ]
    },
    {
      "cell_type": "code",
      "source": [
        "coll = set() #cannot add list\n",
        "coll.add([12,45,78])\n",
        "print(coll)"
      ],
      "metadata": {
        "colab": {
          "base_uri": "https://localhost:8080/",
          "height": 180
        },
        "id": "PcPAGTtSN57k",
        "outputId": "f2007fc2-3d63-4a16-d83a-31c2d516bb13"
      },
      "execution_count": 51,
      "outputs": [
        {
          "output_type": "error",
          "ename": "TypeError",
          "evalue": "unhashable type: 'list'",
          "traceback": [
            "\u001b[0;31m---------------------------------------------------------------------------\u001b[0m",
            "\u001b[0;31mTypeError\u001b[0m                                 Traceback (most recent call last)",
            "\u001b[0;32m/tmp/ipython-input-51-1539346357.py\u001b[0m in \u001b[0;36m<cell line: 0>\u001b[0;34m()\u001b[0m\n\u001b[1;32m      1\u001b[0m \u001b[0mcoll\u001b[0m \u001b[0;34m=\u001b[0m \u001b[0mset\u001b[0m\u001b[0;34m(\u001b[0m\u001b[0;34m)\u001b[0m\u001b[0;34m\u001b[0m\u001b[0;34m\u001b[0m\u001b[0m\n\u001b[0;32m----> 2\u001b[0;31m \u001b[0mcoll\u001b[0m\u001b[0;34m.\u001b[0m\u001b[0madd\u001b[0m\u001b[0;34m(\u001b[0m\u001b[0;34m[\u001b[0m\u001b[0;36m12\u001b[0m\u001b[0;34m,\u001b[0m\u001b[0;36m45\u001b[0m\u001b[0;34m,\u001b[0m\u001b[0;36m78\u001b[0m\u001b[0;34m]\u001b[0m\u001b[0;34m)\u001b[0m\u001b[0;34m\u001b[0m\u001b[0;34m\u001b[0m\u001b[0m\n\u001b[0m\u001b[1;32m      3\u001b[0m \u001b[0mprint\u001b[0m\u001b[0;34m(\u001b[0m\u001b[0mcoll\u001b[0m\u001b[0;34m)\u001b[0m\u001b[0;34m\u001b[0m\u001b[0;34m\u001b[0m\u001b[0m\n",
            "\u001b[0;31mTypeError\u001b[0m: unhashable type: 'list'"
          ]
        }
      ]
    },
    {
      "cell_type": "code",
      "source": [
        "col2 = {\"a\",\"b\",\"s\",\"d\",\"e\"}\n",
        "print(col2.pop())\n",
        "print(col2.pop())\n",
        "print(col2.pop())\n"
      ],
      "metadata": {
        "colab": {
          "base_uri": "https://localhost:8080/"
        },
        "id": "cWXkh2rzOvS-",
        "outputId": "9778b800-a517-4509-8abe-70fa3b5272a5"
      },
      "execution_count": 57,
      "outputs": [
        {
          "output_type": "stream",
          "name": "stdout",
          "text": [
            "a\n",
            "b\n",
            "s\n"
          ]
        }
      ]
    },
    {
      "cell_type": "code",
      "source": [
        "set1 = {1,2,3} #union\n",
        "set2 = {3,4,5}\n",
        "print(set1.union(set2))\n",
        "\n",
        "print(set1.intersection(set2)) #intersection"
      ],
      "metadata": {
        "colab": {
          "base_uri": "https://localhost:8080/"
        },
        "id": "gFtz71J1RAdy",
        "outputId": "9f180925-3c6a-496b-e75e-25cc49945b70"
      },
      "execution_count": 59,
      "outputs": [
        {
          "output_type": "stream",
          "name": "stdout",
          "text": [
            "{1, 2, 3, 4, 5}\n",
            "{3}\n"
          ]
        }
      ]
    }
  ]
}