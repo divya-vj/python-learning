{
  "nbformat": 4,
  "nbformat_minor": 0,
  "metadata": {
    "colab": {
      "provenance": []
    },
    "kernelspec": {
      "name": "python3",
      "display_name": "Python 3"
    },
    "language_info": {
      "name": "python"
    }
  },
  "cells": [
    {
      "cell_type": "code",
      "execution_count": null,
      "metadata": {
        "id": "bDkxf9CgxK4C",
        "colab": {
          "base_uri": "https://localhost:8080/",
          "height": 36
        },
        "outputId": "e8154dcb-95b1-4ed3-d7bf-47aa0e60162c"
      },
      "outputs": [
        {
          "output_type": "execute_result",
          "data": {
            "text/plain": [
              "\"this is divya's class python\""
            ],
            "application/vnd.google.colaboratory.intrinsic+json": {
              "type": "string"
            }
          },
          "metadata": {},
          "execution_count": 4
        }
      ],
      "source": [
        "#string - immutable\n",
        "str1 = \"this is divya\"\n",
        "str2 = 'hi'\n",
        "str3 = \"\"\" hello\"\"\"\n",
        "\n",
        "\"this is divya's class python\"\n",
        "\n"
      ]
    },
    {
      "cell_type": "code",
      "source": [
        "#escape sequence character\n",
        "str1 = \"good morning \\n have a nice day\"  #new line\n",
        "print(str1)\n",
        "str2 = \"good morning \\t have a nice day\"  #tab space\n",
        "print(str2)\n"
      ],
      "metadata": {
        "colab": {
          "base_uri": "https://localhost:8080/"
        },
        "id": "zIYrHKgj1lMe",
        "outputId": "42e87f9e-63dc-46bc-d5bb-011b171ad159"
      },
      "execution_count": null,
      "outputs": [
        {
          "output_type": "stream",
          "name": "stdout",
          "text": [
            "good morning \n",
            " have a nice day\n",
            "good morning \t have a nice day\n"
          ]
        }
      ]
    },
    {
      "cell_type": "code",
      "source": [
        "#operations\n",
        "#concatination #add to string\n",
        "str1 = \"hello\"\n",
        "str2 = \"world\"\n",
        "str = str1+str2\n",
        "print(str)\n"
      ],
      "metadata": {
        "colab": {
          "base_uri": "https://localhost:8080/"
        },
        "id": "2s4Zwuub10hc",
        "outputId": "038757bd-c4c0-460c-cf03-6f6b9130b3e3"
      },
      "execution_count": null,
      "outputs": [
        {
          "output_type": "stream",
          "name": "stdout",
          "text": [
            "helloworld\n"
          ]
        }
      ]
    },
    {
      "cell_type": "code",
      "source": [
        "#length\n",
        "len(str)"
      ],
      "metadata": {
        "colab": {
          "base_uri": "https://localhost:8080/"
        },
        "id": "5cD6ntdM3GiG",
        "outputId": "3073c7ad-5f54-4dcc-8389-bb63c0c2b1d1"
      },
      "execution_count": null,
      "outputs": [
        {
          "output_type": "execute_result",
          "data": {
            "text/plain": [
              "10"
            ]
          },
          "metadata": {},
          "execution_count": 16
        }
      ]
    },
    {
      "cell_type": "code",
      "source": [
        "str1 = \"machine\"\n",
        "len1 = len(str1)\n",
        "print(len1)\n",
        "str2 = \"learning\"\n",
        "len2 = len(str2)\n",
        "print(len2)\n",
        "fin = (str1+\" \"+str2)\n",
        "print(fin)\n",
        "len3 = len(fin)\n",
        "print(len3)"
      ],
      "metadata": {
        "colab": {
          "base_uri": "https://localhost:8080/"
        },
        "id": "P37SgLsr3Tqd",
        "outputId": "9616a804-c408-4c14-b81c-8d078e99f889"
      },
      "execution_count": null,
      "outputs": [
        {
          "output_type": "stream",
          "name": "stdout",
          "text": [
            "7\n",
            "8\n",
            "machine learning\n",
            "16\n"
          ]
        }
      ]
    },
    {
      "cell_type": "code",
      "source": [
        "#indexing#accessing\n",
        "str1 = \"artificail intelligence\"\n",
        "print(str1)\n",
        "ch1 = str1[0]\n",
        "ch2 = str1[8]\n",
        "ch3 = str1[15]\n",
        "print(ch1,ch2,ch3)"
      ],
      "metadata": {
        "colab": {
          "base_uri": "https://localhost:8080/"
        },
        "id": "QjH7_d2L4ri7",
        "outputId": "7de6266c-ae5f-42b2-ab05-c0465fb565b3"
      },
      "execution_count": null,
      "outputs": [
        {
          "output_type": "stream",
          "name": "stdout",
          "text": [
            "artificail intelligence\n",
            "a i l\n"
          ]
        }
      ]
    },
    {
      "cell_type": "code",
      "source": [
        "#slicing #ending idx not included\n",
        "str = \"deep learning\"\n",
        "print(str[1:7])\n",
        "print(str[0:5])\n",
        "print(str[0:10])\n",
        "print(str[0:len(str)])\n",
        "print(str[3:])\n",
        "print(str[:6])\n",
        "\n",
        "#negative index\n",
        "print(str[-3:-1])\n",
        "print(str[:-7])\n",
        "print(str[-4:])"
      ],
      "metadata": {
        "colab": {
          "base_uri": "https://localhost:8080/"
        },
        "id": "iuCmMYxl6O3w",
        "outputId": "36084bc1-8824-4b65-d929-632aa0a71247"
      },
      "execution_count": null,
      "outputs": [
        {
          "output_type": "stream",
          "name": "stdout",
          "text": [
            "eep le\n",
            "deep \n",
            "deep learn\n",
            "deep learning\n",
            "p learning\n",
            "deep l\n",
            "in\n",
            "deep l\n",
            "ning\n"
          ]
        }
      ]
    },
    {
      "cell_type": "code",
      "source": [
        "#string functions\n",
        "str = \"i am studying python and machine learning\"\n",
        "print(str.endswith(\"ing\")) #endswith\n",
        "print(str.capitalize()) #capitalize\n",
        "print(str.replace(\"i\",\"I\")) #replace old from new value\n",
        "print(str.find(\"python\")) #find,ret index\n",
        "print(str.find(\"s\"))\n",
        "print(str.find(\"q\"))\n",
        "print(str.count(\"and\")) #count\n",
        "print(str.count(\"a\"))"
      ],
      "metadata": {
        "id": "sODdVKU67Z15",
        "colab": {
          "base_uri": "https://localhost:8080/"
        },
        "outputId": "21cab461-f6b6-4ac1-9f7a-dfea1ef3fa50"
      },
      "execution_count": 41,
      "outputs": [
        {
          "output_type": "stream",
          "name": "stdout",
          "text": [
            "True\n",
            "I am studying python and machine learning\n",
            "I am studyIng python and machIne learnIng\n",
            "14\n",
            "5\n",
            "-1\n",
            "1\n",
            "4\n"
          ]
        }
      ]
    },
    {
      "cell_type": "code",
      "source": [
        "str = (input(\"enter your name\"))\n",
        "print(len(str))"
      ],
      "metadata": {
        "colab": {
          "base_uri": "https://localhost:8080/"
        },
        "id": "WveLA6E9A_lj",
        "outputId": "a66bc9cd-3403-4c3a-a019-254d9ff72de6"
      },
      "execution_count": 43,
      "outputs": [
        {
          "output_type": "stream",
          "name": "stdout",
          "text": [
            "enter your namedivya\n",
            "5\n"
          ]
        }
      ]
    },
    {
      "cell_type": "code",
      "source": [
        "str = \"hi, i am $ symbol ,$126.01\"\n",
        "print(str.count(\"$\"))\n",
        "print(str.count(\"e\"))"
      ],
      "metadata": {
        "colab": {
          "base_uri": "https://localhost:8080/"
        },
        "id": "2qn_LRPUDY1T",
        "outputId": "40078b92-4057-4fab-95fe-458f03e904b4"
      },
      "execution_count": 44,
      "outputs": [
        {
          "output_type": "stream",
          "name": "stdout",
          "text": [
            "2\n",
            "0\n"
          ]
        }
      ]
    },
    {
      "cell_type": "code",
      "source": [
        "#conditional statements\n",
        "num = int(input(\"enter no:\"))\n",
        "if(num%2 == 0):\n",
        "  print(\"even\")\n",
        "else:\n",
        "  print(\"odd\")\n"
      ],
      "metadata": {
        "colab": {
          "base_uri": "https://localhost:8080/"
        },
        "id": "k-5pcc_3EBtI",
        "outputId": "b34eb16e-73cf-4074-9b3e-6970e57ffb1f"
      },
      "execution_count": 46,
      "outputs": [
        {
          "output_type": "stream",
          "name": "stdout",
          "text": [
            "enter no:8\n",
            "even\n"
          ]
        }
      ]
    },
    {
      "cell_type": "code",
      "source": [
        "#list - mutable\n",
        "price = [45,78,665,789,254,3125,450.35,450.2,7892,78,32]\n",
        "print(price)\n",
        "print(type(price))\n",
        "print(price[5])\n",
        "print(price[0])\n",
        "print(len(price))\n"
      ],
      "metadata": {
        "colab": {
          "base_uri": "https://localhost:8080/"
        },
        "id": "lRgRiNnKF4qC",
        "outputId": "d2fe8be5-9a16-48c5-8f76-f5eb46434039"
      },
      "execution_count": 52,
      "outputs": [
        {
          "output_type": "stream",
          "name": "stdout",
          "text": [
            "[45, 78, 665, 789, 254, 3125, 450.35, 450.2, 7892, 78, 32]\n",
            "<class 'list'>\n",
            "3125\n",
            "45\n",
            "11\n"
          ]
        }
      ]
    },
    {
      "cell_type": "code",
      "source": [
        "student = [\"raj\",56,\"RR nagar\"]\n",
        "print(student)\n",
        "student[0] = \"ram\"\n",
        "print(student)"
      ],
      "metadata": {
        "colab": {
          "base_uri": "https://localhost:8080/"
        },
        "id": "uf4Z7GzuHupG",
        "outputId": "c80d9d7c-b0c6-42bd-9d4d-585fb1aaa511"
      },
      "execution_count": 54,
      "outputs": [
        {
          "output_type": "stream",
          "name": "stdout",
          "text": [
            "['raj', 56, 'RR nagar']\n",
            "['ram', 56, 'RR nagar']\n"
          ]
        }
      ]
    },
    {
      "cell_type": "code",
      "source": [
        "#list slicing\n",
        "marks = [12,89,45,233,65,78,159,325,125]\n",
        "print(marks[1:6])\n",
        "print(marks[:5])\n",
        "print(marks[-6:-3])"
      ],
      "metadata": {
        "colab": {
          "base_uri": "https://localhost:8080/"
        },
        "id": "FIvdD127IdT3",
        "outputId": "70162fc8-278e-4289-a10b-a53f6648a44c"
      },
      "execution_count": 58,
      "outputs": [
        {
          "output_type": "stream",
          "name": "stdout",
          "text": [
            "[89, 45, 233, 65, 78]\n",
            "[12, 89, 45, 233, 65]\n",
            "[233, 65, 78]\n"
          ]
        }
      ]
    },
    {
      "cell_type": "code",
      "source": [
        "#list method\n",
        "list = [78,896,452,325]\n",
        "list.append(45) #append - add's @ last\n",
        "print(list)\n",
        "print(list.sort()) #sort in asc order\n",
        "print(list)\n",
        "print(list.sort(reverse=True)) # sorts indes order\n",
        "print(list)\n",
        "list.reverse() #reverse list\n",
        "print(list)\n",
        "list.insert(3,66) #insert\n",
        "print(list)\n",
        "list.remove(66)#remove if value given\n",
        "print(list)\n",
        "list.pop(2)#removes if index given\n",
        "print(list)"
      ],
      "metadata": {
        "colab": {
          "base_uri": "https://localhost:8080/"
        },
        "id": "ObkmAv72JVVj",
        "outputId": "21452966-d0e0-4998-d7ca-e927806d1d49"
      },
      "execution_count": 69,
      "outputs": [
        {
          "output_type": "stream",
          "name": "stdout",
          "text": [
            "[78, 896, 452, 325, 45]\n",
            "None\n",
            "[45, 78, 325, 452, 896]\n",
            "None\n",
            "[896, 452, 325, 78, 45]\n",
            "[45, 78, 325, 452, 896]\n",
            "[45, 78, 325, 66, 452, 896]\n",
            "[45, 78, 325, 452, 896]\n",
            "[45, 78, 452, 896]\n"
          ]
        }
      ]
    },
    {
      "cell_type": "code",
      "source": [
        "#tuples-immutable\n",
        "tup=(12,26,45,789)\n",
        "print(type(tup))\n",
        "tup1 = (12,)\n",
        "print(type(tup1))\n",
        "print(tup[0:2])"
      ],
      "metadata": {
        "colab": {
          "base_uri": "https://localhost:8080/"
        },
        "id": "hosDLgwcKbeV",
        "outputId": "8dd53e23-f257-4713-fcde-d5f8b5fc5fea"
      },
      "execution_count": 75,
      "outputs": [
        {
          "output_type": "stream",
          "name": "stdout",
          "text": [
            "<class 'tuple'>\n",
            "<class 'tuple'>\n",
            "(12, 26)\n"
          ]
        }
      ]
    },
    {
      "cell_type": "code",
      "source": [
        "#tuple method\n",
        "tup = (1, 2, 3, 2, 4, 2)\n",
        "print(tup.index(2))\n",
        "print(tup.count(2))"
      ],
      "metadata": {
        "colab": {
          "base_uri": "https://localhost:8080/"
        },
        "id": "A9daQ_p7NcIq",
        "outputId": "e9a3ec30-a72e-419c-b0ea-b5086b15dd16"
      },
      "execution_count": 78,
      "outputs": [
        {
          "output_type": "stream",
          "name": "stdout",
          "text": [
            "1\n",
            "3\n"
          ]
        }
      ]
    },
    {
      "cell_type": "code",
      "source": [],
      "metadata": {
        "id": "d1NFgan1OT_R"
      },
      "execution_count": null,
      "outputs": []
    }
  ]
}