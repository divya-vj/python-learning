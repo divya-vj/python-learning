{
  "nbformat": 4,
  "nbformat_minor": 0,
  "metadata": {
    "colab": {
      "provenance": []
    },
    "kernelspec": {
      "name": "python3",
      "display_name": "Python 3"
    },
    "language_info": {
      "name": "python"
    }
  },
  "cells": [
    {
      "cell_type": "code",
      "execution_count": 1,
      "metadata": {
        "colab": {
          "base_uri": "https://localhost:8080/"
        },
        "id": "bUVeXbrSqTiV",
        "outputId": "9c395caa-f2c5-4613-bda8-6f3f38a4c33b"
      },
      "outputs": [
        {
          "output_type": "stream",
          "name": "stdout",
          "text": [
            "Hello world!\n"
          ]
        }
      ],
      "source": [
        "print(\"Hello world!\")"
      ]
    },
    {
      "cell_type": "code",
      "source": [
        "print(\"I'm divya\",\"welcome to python\")"
      ],
      "metadata": {
        "colab": {
          "base_uri": "https://localhost:8080/"
        },
        "id": "PaCA1a2itdN9",
        "outputId": "c7cb3921-88de-4ba1-ed10-6cbfea829c59"
      },
      "execution_count": 3,
      "outputs": [
        {
          "output_type": "stream",
          "name": "stdout",
          "text": [
            "I'm divya welcome to python\n"
          ]
        }
      ]
    },
    {
      "cell_type": "code",
      "source": [
        "print(123)"
      ],
      "metadata": {
        "colab": {
          "base_uri": "https://localhost:8080/"
        },
        "id": "SRRsjceouLKF",
        "outputId": "a61317cc-af07-49fe-8779-21182e4c0613"
      },
      "execution_count": 4,
      "outputs": [
        {
          "output_type": "stream",
          "name": "stdout",
          "text": [
            "123\n"
          ]
        }
      ]
    },
    {
      "cell_type": "code",
      "source": [
        "print(12+23)"
      ],
      "metadata": {
        "colab": {
          "base_uri": "https://localhost:8080/"
        },
        "id": "vd7NqKqSubkK",
        "outputId": "6fd53529-b781-44ea-d98b-6ee5594c20ec"
      },
      "execution_count": 5,
      "outputs": [
        {
          "output_type": "stream",
          "name": "stdout",
          "text": [
            "35\n"
          ]
        }
      ]
    },
    {
      "cell_type": "code",
      "source": [
        "#variable\n",
        "name = \"divya\" #string\n",
        "age = 20 #integer\n",
        "price = 12.0 #float\n"
      ],
      "metadata": {
        "id": "a00uZzdhu3H9"
      },
      "execution_count": 15,
      "outputs": []
    },
    {
      "cell_type": "code",
      "source": [
        "print(name,age,price)"
      ],
      "metadata": {
        "colab": {
          "base_uri": "https://localhost:8080/"
        },
        "id": "Jm8jOA4WyR-G",
        "outputId": "b886ac3d-717e-4fbc-c890-fd6040d0c791"
      },
      "execution_count": 17,
      "outputs": [
        {
          "output_type": "stream",
          "name": "stdout",
          "text": [
            "divya 20 12.0\n"
          ]
        }
      ]
    },
    {
      "cell_type": "code",
      "source": [
        "print(\"my name is:\",name)"
      ],
      "metadata": {
        "colab": {
          "base_uri": "https://localhost:8080/"
        },
        "id": "UsVjnOZ1vk0H",
        "outputId": "346d9ae3-aff0-4a01-fc33-126bf77e7b3f"
      },
      "execution_count": 9,
      "outputs": [
        {
          "output_type": "stream",
          "name": "stdout",
          "text": [
            "my name is: divya\n"
          ]
        }
      ]
    },
    {
      "cell_type": "code",
      "source": [
        "age2 =age\n",
        "print(age)"
      ],
      "metadata": {
        "colab": {
          "base_uri": "https://localhost:8080/"
        },
        "id": "DWBm4qJ7wHYr",
        "outputId": "fb62ed56-e5e0-4547-b091-bf32013c7cf1"
      },
      "execution_count": 10,
      "outputs": [
        {
          "output_type": "stream",
          "name": "stdout",
          "text": [
            "20\n"
          ]
        }
      ]
    },
    {
      "cell_type": "code",
      "source": [
        "print(type(name))\n",
        "print(type(age))\n",
        "print(type(price))"
      ],
      "metadata": {
        "colab": {
          "base_uri": "https://localhost:8080/"
        },
        "id": "UvIitNVyxG6f",
        "outputId": "fd0ff10f-43a8-4ab9-f1d5-ad61ea6c67e7"
      },
      "execution_count": 18,
      "outputs": [
        {
          "output_type": "stream",
          "name": "stdout",
          "text": [
            "<class 'str'>\n",
            "<class 'int'>\n",
            "<class 'float'>\n"
          ]
        }
      ]
    },
    {
      "cell_type": "code",
      "source": [
        "#data types\n",
        "si = 20\n",
        "name = \"divya\"\n",
        "marks = 20.5\n",
        "college = True\n",
        "print(type(si))\n",
        "print(type(name))\n",
        "print(type(marks))\n",
        "print(type(college))\n"
      ],
      "metadata": {
        "colab": {
          "base_uri": "https://localhost:8080/"
        },
        "id": "DNwf13aOybr8",
        "outputId": "50c8274a-d7f8-40f9-cb09-43ec1fed16c1"
      },
      "execution_count": 22,
      "outputs": [
        {
          "output_type": "stream",
          "name": "stdout",
          "text": [
            "<class 'int'>\n",
            "<class 'str'>\n",
            "<class 'float'>\n",
            "<class 'bool'>\n"
          ]
        }
      ]
    },
    {
      "cell_type": "code",
      "source": [
        "a = 12\n",
        "b = 23\n",
        "sum = a+b\n",
        "print(sum)"
      ],
      "metadata": {
        "colab": {
          "base_uri": "https://localhost:8080/"
        },
        "id": "WiIuX1W6zi1t",
        "outputId": "7f1a4133-4001-488b-fe23-9e33116ac920"
      },
      "execution_count": 23,
      "outputs": [
        {
          "output_type": "stream",
          "name": "stdout",
          "text": [
            "35\n"
          ]
        }
      ]
    },
    {
      "cell_type": "code",
      "source": [
        "#expression execution\n",
        "a,b = 2 ,3\n",
        "txt = \"@\"\n",
        "print(2*txt*3)\n",
        "\n",
        "#concatenation\n",
        "a,b=\"2\",3\n",
        "txt=\"@\"\n",
        "print((a+txt)*b)\n"
      ],
      "metadata": {
        "colab": {
          "base_uri": "https://localhost:8080/"
        },
        "id": "VaNHu82g0c4r",
        "outputId": "9b123deb-b78e-47b5-9cde-a3dfddc73fe6"
      },
      "execution_count": 24,
      "outputs": [
        {
          "output_type": "stream",
          "name": "stdout",
          "text": [
            "@@@@@@\n",
            "2@2@2@\n"
          ]
        }
      ]
    },
    {
      "cell_type": "code",
      "source": [
        "a,b,c=1,2,9.20\n",
        "print(a+b*c)"
      ],
      "metadata": {
        "colab": {
          "base_uri": "https://localhost:8080/"
        },
        "id": "vJZ7GIrD175W",
        "outputId": "90cdadb9-4ffe-43cf-a957-4727334f61b2"
      },
      "execution_count": 26,
      "outputs": [
        {
          "output_type": "stream",
          "name": "stdout",
          "text": [
            "19.4\n"
          ]
        }
      ]
    },
    {
      "cell_type": "code",
      "source": [
        "a,b=1,2.30\n",
        "c=a//b #gives closest int\n",
        "print(c,a/b)"
      ],
      "metadata": {
        "colab": {
          "base_uri": "https://localhost:8080/"
        },
        "id": "yWA0Zdzy2bgi",
        "outputId": "b720c92d-5574-41ab-d76b-8c2e45407cc2"
      },
      "execution_count": 27,
      "outputs": [
        {
          "output_type": "stream",
          "name": "stdout",
          "text": [
            "0.0 0.4347826086956522\n"
          ]
        }
      ]
    },
    {
      "cell_type": "code",
      "source": [
        "a,b=5,2\n",
        "c=a%b\n",
        "print(c)\n",
        "\n",
        "a,b=-5,2\n",
        "c=a%b\n",
        "print(c)\n",
        "\n",
        "a,b=5,-2\n",
        "c=a%b\n",
        "print(c)\n",
        "\n"
      ],
      "metadata": {
        "colab": {
          "base_uri": "https://localhost:8080/"
        },
        "id": "_aVIF3M43MG0",
        "outputId": "e156e0a7-0be7-466c-bc8a-806d725d7bad"
      },
      "execution_count": 28,
      "outputs": [
        {
          "output_type": "stream",
          "name": "stdout",
          "text": [
            "1\n",
            "1\n",
            "-1\n"
          ]
        }
      ]
    },
    {
      "cell_type": "code",
      "source": [
        "#comments\n",
        "#add to no\n",
        "print(222+365)"
      ],
      "metadata": {
        "colab": {
          "base_uri": "https://localhost:8080/"
        },
        "id": "GAWTw9PY6CC6",
        "outputId": "4041e481-d09f-46c8-c4b8-78c4bfc9e344"
      },
      "execution_count": 29,
      "outputs": [
        {
          "output_type": "stream",
          "name": "stdout",
          "text": [
            "587\n"
          ]
        }
      ]
    },
    {
      "cell_type": "code",
      "source": [
        "print(\"hi\")#input\n",
        "name = input(\"name:\")"
      ],
      "metadata": {
        "colab": {
          "base_uri": "https://localhost:8080/"
        },
        "id": "E26BLNk16WY0",
        "outputId": "894332ec-b54b-4eda-a565-9610c53b0996"
      },
      "execution_count": 30,
      "outputs": [
        {
          "name": "stdout",
          "output_type": "stream",
          "text": [
            "name:divya\n"
          ]
        }
      ]
    },
    {
      "cell_type": "code",
      "source": [
        "age=int(input(\"age:\"))"
      ],
      "metadata": {
        "colab": {
          "base_uri": "https://localhost:8080/"
        },
        "id": "jd2GGIcP67ZL",
        "outputId": "38bad05c-1a52-42e6-f43b-04554a415170"
      },
      "execution_count": 33,
      "outputs": [
        {
          "name": "stdout",
          "output_type": "stream",
          "text": [
            "age:20\n"
          ]
        }
      ]
    },
    {
      "cell_type": "code",
      "source": [
        "usn = input(\"usn:\")\n",
        "name = str(input(\"my name is:\"))\n",
        "fee = float(input(\"fee :\"))\n"
      ],
      "metadata": {
        "colab": {
          "base_uri": "https://localhost:8080/"
        },
        "id": "2gevnqFo7R2w",
        "outputId": "4b17295f-797f-4d51-8261-938480d7bd04"
      },
      "execution_count": 34,
      "outputs": [
        {
          "name": "stdout",
          "output_type": "stream",
          "text": [
            "usn:20\n",
            "my name is:divya\n",
            "fee :218908\n"
          ]
        }
      ]
    },
    {
      "cell_type": "code",
      "source": [
        "#conditional statements\n",
        "#if-elif-else\n",
        "age=int(input(\"age:\"))\n",
        "if(age>18):\n",
        "  print(\"eligible to vote\")\n",
        "elif(age==18):\n",
        "  print(\"eligible to vote\")\n",
        "else:\n",
        "  print(\"not eligible to vote\")"
      ],
      "metadata": {
        "colab": {
          "base_uri": "https://localhost:8080/"
        },
        "id": "TAACP6pD79lS",
        "outputId": "2af833cc-db1a-4ed4-8222-fe2d295626cc"
      },
      "execution_count": 40,
      "outputs": [
        {
          "output_type": "stream",
          "name": "stdout",
          "text": [
            "age:18\n",
            "eligible to vote\n"
          ]
        }
      ]
    },
    {
      "cell_type": "code",
      "source": [
        "a = int(input(\"a:\"))\n",
        "g = input(\"M/F:\")\n",
        "if((a ==1 or a ==2)and g ==\"M\"):\n",
        "  print(\"fee is 100\")\n",
        "elif(a == 3 or a == 4 or g ==\"F\"):\n",
        "  print(\"fee is 200\")\n",
        "elif(a == 5 and g == \"M\"):\n",
        "  print(\"fee is 300\")\n",
        "else:\n",
        "  print(\"no fee\")"
      ],
      "metadata": {
        "colab": {
          "base_uri": "https://localhost:8080/"
        },
        "id": "Pf0-9muR_gn-",
        "outputId": "fba17e61-c869-4ee8-e716-cab3b78d00cd"
      },
      "execution_count": 42,
      "outputs": [
        {
          "output_type": "stream",
          "name": "stdout",
          "text": [
            "a:2\n",
            "M/F:F\n",
            "fee is 200\n"
          ]
        }
      ]
    },
    {
      "cell_type": "code",
      "source": [
        "#singlr line if/ternary operator\n",
        "food = input(\"food:\")\n",
        "eat = \"yes\" if food == \"cake\" else \"no\"\n",
        "print(eat)"
      ],
      "metadata": {
        "colab": {
          "base_uri": "https://localhost:8080/"
        },
        "id": "GUOUseeKBx7I",
        "outputId": "b10555ec-0737-4245-d75c-98e928d128ae"
      },
      "execution_count": 43,
      "outputs": [
        {
          "output_type": "stream",
          "name": "stdout",
          "text": [
            "food:cake\n",
            "yes\n"
          ]
        }
      ]
    },
    {
      "cell_type": "code",
      "source": [
        "#clever if\n",
        "sal = float(input(\"sal :\"))\n",
        "tax= sal*(0.1,0.2)[sal <= 50000]\n",
        "print(tax)"
      ],
      "metadata": {
        "colab": {
          "base_uri": "https://localhost:8080/"
        },
        "id": "XDV006-DChXw",
        "outputId": "39189e6a-81ad-4679-d081-46dd21b7e7fe"
      },
      "execution_count": 44,
      "outputs": [
        {
          "output_type": "stream",
          "name": "stdout",
          "text": [
            "sal :2500\n",
            "500.0\n"
          ]
        }
      ]
    },
    {
      "cell_type": "code",
      "source": [
        "#relational operators\n",
        "a = 52\n",
        "b = 63\n",
        "print(a==b)\n",
        "print(a!=b)\n",
        "print(a<=b)\n",
        "print(a>=b)\n",
        "print(a<b)\n",
        "print(a>b)"
      ],
      "metadata": {
        "colab": {
          "base_uri": "https://localhost:8080/"
        },
        "id": "jQGL3-k5DNgY",
        "outputId": "e2b36205-63f1-4dda-971a-4a0d16e9c42e"
      },
      "execution_count": 46,
      "outputs": [
        {
          "output_type": "stream",
          "name": "stdout",
          "text": [
            "False\n",
            "True\n",
            "True\n",
            "False\n",
            "True\n",
            "False\n"
          ]
        }
      ]
    },
    {
      "cell_type": "code",
      "source": [
        "#assignement operators\n",
        "num=10\n",
        "num = num+205\n",
        "print(\"num:\",num)\n",
        "\n",
        "num=10\n",
        "num %=205\n",
        "print(\"num:\",num)\n",
        "\n",
        "num=10\n",
        "num /=205\n",
        "print(\"num:\",num)"
      ],
      "metadata": {
        "colab": {
          "base_uri": "https://localhost:8080/"
        },
        "id": "QYWKrts2FpJN",
        "outputId": "2076cecf-b83c-4063-8aff-23743c06997d"
      },
      "execution_count": 48,
      "outputs": [
        {
          "output_type": "stream",
          "name": "stdout",
          "text": [
            "num: 215\n",
            "num: 10\n",
            "num: 0.04878048780487805\n"
          ]
        }
      ]
    },
    {
      "cell_type": "code",
      "source": [
        "#logical operators\n",
        "print(not False)\n",
        "print(True)\n",
        "val1 = True\n",
        "val2 = False\n",
        "res1 = val1 and val2\n",
        "res2 = val1 or val2\n",
        "\n",
        "print(res1)\n",
        "print(res2)"
      ],
      "metadata": {
        "colab": {
          "base_uri": "https://localhost:8080/"
        },
        "id": "5KYSdxsVF4u4",
        "outputId": "74b2268b-25fa-4b99-f778-5d2c1c8a97bb"
      },
      "execution_count": 49,
      "outputs": [
        {
          "output_type": "stream",
          "name": "stdout",
          "text": [
            "True\n",
            "True\n",
            "False\n",
            "True\n"
          ]
        }
      ]
    },
    {
      "cell_type": "code",
      "source": [
        "#type conversion\n",
        "a,b=1,2.0\n",
        "sum=a+b\n",
        "print(sum)\n",
        "\n",
        "a,b=\"1\",2.0\n",
        "sum=a+b\n",
        "print(sum)\n"
      ],
      "metadata": {
        "colab": {
          "base_uri": "https://localhost:8080/",
          "height": 219
        },
        "id": "M2Au4IHuHdeW",
        "outputId": "2f61feeb-83d4-4b78-9b22-b34890236447"
      },
      "execution_count": 51,
      "outputs": [
        {
          "output_type": "stream",
          "name": "stdout",
          "text": [
            "3.0\n"
          ]
        },
        {
          "output_type": "error",
          "ename": "TypeError",
          "evalue": "can only concatenate str (not \"float\") to str",
          "traceback": [
            "\u001b[0;31m---------------------------------------------------------------------------\u001b[0m",
            "\u001b[0;31mTypeError\u001b[0m                                 Traceback (most recent call last)",
            "\u001b[0;32m/tmp/ipython-input-51-2572319855.py\u001b[0m in \u001b[0;36m<cell line: 0>\u001b[0;34m()\u001b[0m\n\u001b[1;32m      5\u001b[0m \u001b[0;34m\u001b[0m\u001b[0m\n\u001b[1;32m      6\u001b[0m \u001b[0ma\u001b[0m\u001b[0;34m,\u001b[0m\u001b[0mb\u001b[0m\u001b[0;34m=\u001b[0m\u001b[0;34m\"1\"\u001b[0m\u001b[0;34m,\u001b[0m\u001b[0;36m2.0\u001b[0m\u001b[0;34m\u001b[0m\u001b[0;34m\u001b[0m\u001b[0m\n\u001b[0;32m----> 7\u001b[0;31m \u001b[0msum\u001b[0m\u001b[0;34m=\u001b[0m\u001b[0ma\u001b[0m\u001b[0;34m+\u001b[0m\u001b[0mb\u001b[0m\u001b[0;34m\u001b[0m\u001b[0;34m\u001b[0m\u001b[0m\n\u001b[0m\u001b[1;32m      8\u001b[0m \u001b[0mprint\u001b[0m\u001b[0;34m(\u001b[0m\u001b[0msum\u001b[0m\u001b[0;34m)\u001b[0m\u001b[0;34m\u001b[0m\u001b[0;34m\u001b[0m\u001b[0m\n",
            "\u001b[0;31mTypeError\u001b[0m: can only concatenate str (not \"float\") to str"
          ]
        }
      ]
    },
    {
      "cell_type": "code",
      "source": [
        "a=int(\"1\")\n",
        "b=2.0\n",
        "sum=a+b\n",
        "print(type(a))\n",
        "print(sum)\n"
      ],
      "metadata": {
        "colab": {
          "base_uri": "https://localhost:8080/"
        },
        "id": "wDytBM5vIAuH",
        "outputId": "60a66263-4bea-4994-eec7-a84e9d88b410"
      },
      "execution_count": 53,
      "outputs": [
        {
          "output_type": "stream",
          "name": "stdout",
          "text": [
            "<class 'int'>\n",
            "3.0\n"
          ]
        }
      ]
    },
    {
      "cell_type": "code",
      "source": [
        "var1 = input(\"a:\")\n",
        "var2 = input(\"b:\")\n",
        "sum = a+b\n",
        "print(sum)"
      ],
      "metadata": {
        "colab": {
          "base_uri": "https://localhost:8080/"
        },
        "id": "YLkpwYYGIkbu",
        "outputId": "3a99cde9-1710-4a1f-b812-750a312efed6"
      },
      "execution_count": 54,
      "outputs": [
        {
          "output_type": "stream",
          "name": "stdout",
          "text": [
            "a:789\n",
            "b:654\n",
            "3.0\n"
          ]
        }
      ]
    },
    {
      "cell_type": "code",
      "source": [
        "side = float(input(\"side of square:\"))\n",
        "print(\"s = \",side*side)"
      ],
      "metadata": {
        "colab": {
          "base_uri": "https://localhost:8080/"
        },
        "id": "hSFhQPClJ4B-",
        "outputId": "ac5b9e02-50c8-467a-da47-62d9a45799b9"
      },
      "execution_count": 56,
      "outputs": [
        {
          "output_type": "stream",
          "name": "stdout",
          "text": [
            "side of square:4\n",
            "s =  16.0\n"
          ]
        }
      ]
    },
    {
      "cell_type": "code",
      "source": [
        "p1 = float(input(\"p1:\"))\n",
        "p2 = float(input(\"p2:\"))\n",
        "avg = p1+p2/2\n",
        "print(avg)"
      ],
      "metadata": {
        "colab": {
          "base_uri": "https://localhost:8080/"
        },
        "id": "IIhxlAcDKnwV",
        "outputId": "644621d2-63ef-47aa-e069-9c53d1feef9a"
      },
      "execution_count": 57,
      "outputs": [
        {
          "output_type": "stream",
          "name": "stdout",
          "text": [
            "p1:89\n",
            "p2:35\n",
            "106.5\n"
          ]
        }
      ]
    },
    {
      "cell_type": "code",
      "source": [],
      "metadata": {
        "id": "d4zOL5niMQld"
      },
      "execution_count": null,
      "outputs": []
    }
  ]
}